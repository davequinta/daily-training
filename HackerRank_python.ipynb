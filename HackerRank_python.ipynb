{
  "nbformat": 4,
  "nbformat_minor": 0,
  "metadata": {
    "colab": {
      "name": "HackerRank_python.ipynb",
      "provenance": [],
      "authorship_tag": "ABX9TyOlJ0vCXIG0QyE2fCo8gAyG",
      "include_colab_link": true
    },
    "kernelspec": {
      "name": "python3",
      "display_name": "Python 3"
    },
    "language_info": {
      "name": "python"
    }
  },
  "cells": [
    {
      "cell_type": "markdown",
      "metadata": {
        "id": "view-in-github",
        "colab_type": "text"
      },
      "source": [
        "<a href=\"https://colab.research.google.com/github/davequinta/daily_train/blob/main/HackerRank_python.ipynb\" target=\"_parent\"><img src=\"https://colab.research.google.com/assets/colab-badge.svg\" alt=\"Open In Colab\"/></a>"
      ]
    },
    {
      "cell_type": "markdown",
      "source": [
        "### List Comprenhensions"
      ],
      "metadata": {
        "id": "_iHrgwJION3M"
      }
    },
    {
      "cell_type": "code",
      "execution_count": null,
      "metadata": {
        "colab": {
          "base_uri": "https://localhost:8080/"
        },
        "id": "bcGCvNyDNi5q",
        "outputId": "42cd2457-4920-4296-9289-a5843cdc6148"
      },
      "outputs": [
        {
          "output_type": "stream",
          "name": "stdout",
          "text": [
            "[[0, 0, 0], [0, 0, 1], [0, 1, 0], [1, 0, 0], [1, 1, 1]]\n"
          ]
        }
      ],
      "source": [
        "\n",
        "# Let's learn about list comprehensions! You are given three integers X, Y and Z representing the dimensions of a cuboid along with an\n",
        "# integer N. You have to print a list of all possible coordinates given by (i, j, k) on a 3D grid where the sum of i + j + k  is not\n",
        "# equal to N. Here, 0 <= i <= X; 0 <= j <= Y; 0 <= k <= Z \n",
        "\n",
        "# Input Format\n",
        "# Four integers X, Y, Z and N each on four separate lines, respectively.\n",
        "\n",
        "# Constraints\n",
        "# Print the list in lexicographic increasing order.\n",
        "\n",
        "# Sample Input\n",
        "# 1\n",
        "# 1\n",
        "# 1\n",
        "# 2\n",
        "\n",
        "# Sample Output\n",
        "# [[0, 0, 0], [0, 0, 1], [0, 1, 0], [1, 0, 0], [1, 1, 1]]\n",
        "\n",
        "\n",
        "# Enter your code here. Test Case 1\n",
        "X = 1\n",
        "Y = 1\n",
        "Z = 1\n",
        "N = 2\n",
        "\n",
        "ans = [[i, j, k] for i in range(X + 1) for j in range(Y + 1) for k in range(Z + 1) if i + j + k != N]\n",
        "print(ans)"
      ]
    }
  ]
}